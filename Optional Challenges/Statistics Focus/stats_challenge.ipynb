{
 "cells": [
  {
   "cell_type": "markdown",
   "metadata": {},
   "source": [
    "# Statistics Challenge (Optional)"
   ]
  },
  {
   "cell_type": "markdown",
   "metadata": {},
   "source": [
    "Use the `orders.csv` dataset in the same directory to complete this challenge.\n",
    "\n",
    "**Background**:\n",
    "\n",
    "There are exactly 100 sneaker shops on a sneaker retailing website, and each of these shops sells only one model of shoe. We want to do some analysis of the average order value (AOV). When we look at orders data over a 30 day window, we naively calculate an AOV of $3145.13. Given that we know these shops are selling sneakers, a relatively affordable item, something seems wrong with our analysis. \n",
    "\n",
    "**Questions**:\n",
    "\n",
    "- What went wrong with this metric and our analysis? \n",
    "\n",
    "- Propose some new metrics that better represents the behavior of the stores' customers. Why are these metrics better? You can propose as many new metrics as you wish but quality heavily outweights quantity.\n",
    "\n",
    "- Find the values of your new metrics.\n",
    "\n",
    "- Report any other interesting findings.\n",
    "\n",
    "Show all of your work in this notebook."
   ]
  },
  {
   "cell_type": "code",
   "execution_count": 144,
   "metadata": {},
   "outputs": [],
   "source": [
    "# library import\n",
    "\n",
    "import numpy as np, pandas as pd, matplotlib.pyplot as mp"
   ]
  },
  {
   "cell_type": "code",
   "execution_count": 145,
   "metadata": {},
   "outputs": [
    {
     "name": "stdout",
     "output_type": "stream",
     "text": [
      "3145.128 \n",
      "\n",
      "Simply getting the mean of order value to get the average price of one sneaker is wrong since some orders\n",
      "have had multiple items than one\n"
     ]
    }
   ],
   "source": [
    "# getting a wrong AOV of $3145.13\n",
    "\n",
    "df = pd.read_csv(\"orders.csv\")\n",
    "df.dropna()\n",
    "\n",
    "wrong_AOV = df['order_value'].mean()\n",
    "print(wrong_AOV, '\\n')\n",
    "\n",
    "print(\"Simply getting the mean of order value to get the average price of one sneaker is wrong since some orders\")\n",
    "print(\"have had multiple items than one\")"
   ]
  },
  {
   "cell_type": "code",
   "execution_count": 179,
   "metadata": {},
   "outputs": [
    {
     "data": {
      "text/plain": [
       "0           day\n",
       "1       evening\n",
       "2         night\n",
       "3           day\n",
       "4         night\n",
       "         ...   \n",
       "4995        day\n",
       "4996    evening\n",
       "4997    morning\n",
       "4998        day\n",
       "4999        day\n",
       "Name: order_time_of_day, Length: 5000, dtype: object"
      ]
     },
     "execution_count": 179,
     "metadata": {},
     "output_type": "execute_result"
    }
   ],
   "source": [
    "# new metrics\n",
    "\n",
    "# 1. average price per item for each order\n",
    "# This is better since it gives the average value 'per sneaker' for each order\n",
    "df['avg_item_value'] = df['order_value']/df['total_items']\n",
    "\n",
    "# 2. ordered times of each item\n",
    "# classifying the ordered times of items can help analyze customer behavior with respect to time\n",
    "times = []\n",
    "for index, row in df.iterrows():\n",
    "    times.append(row['created_at'].split()[1])\n",
    "\n",
    "df['order_time'] = times\n",
    "\n",
    "# 3. morning(5 am - 12 pm)/day(12 pm - 5 pm)/evening(5 pm to 9 pm)/night(9 pm to 5 am) category for each customer\n",
    "# Beneficial to track what time of day customers like to purchase the most\n",
    "times = []\n",
    "for index, row in df.iterrows():\n",
    "    \n",
    "    # raw time of the order\n",
    "    time = row['order_time']\n",
    "    \n",
    "    # i.e.: if time is before noon\n",
    "    if(len(time) < 8):\n",
    "        if (time < '5:00:00'):\n",
    "            times.append('night')\n",
    "        else:\n",
    "            times.append('morning')\n",
    "    else:\n",
    "        if (time >= '21:00:00'):\n",
    "            times.append('night')\n",
    "        elif (time >= '17:00:00' and time < '21:00:00'):\n",
    "            times.append('evening')\n",
    "        else:\n",
    "            times.append('day')\n",
    "\n",
    "df['order_time_of_day'] = times"
   ]
  },
  {
   "cell_type": "code",
   "execution_count": 183,
   "metadata": {},
   "outputs": [
    {
     "name": "stdout",
     "output_type": "stream",
     "text": [
      "Average value per sneakers: $ 387.7428 \n",
      "\n",
      "Number of users who purchase at morning:  1028\n",
      "Number of users who purchase at day:  1432\n",
      "Number of users who purchase at evening:  812\n",
      "Number of users who purchase at night:  1728\n"
     ]
    }
   ],
   "source": [
    "# Values of the new metric\n",
    "\n",
    "print(\"Average value per sneakers: $\", df['avg_item_value'].mean(), '\\n')\n",
    "\n",
    "\n",
    "# Number of users who purchase at morning\n",
    "mNum = df['order_time_of_day'].value_counts()['morning']\n",
    "print('Number of users who purchase at morning: ', mNum)\n",
    "\n",
    "# Number of users who purchase at day\n",
    "dNum = df['order_time_of_day'].value_counts()['day']\n",
    "print('Number of users who purchase at day: ', dNum)\n",
    "\n",
    "# Number of users who purchase at evening\n",
    "eNum = df['order_time_of_day'].value_counts()['evening']\n",
    "print('Number of users who purchase at evening: ', eNum)\n",
    "\n",
    "# Number of users who purchase at night\n",
    "nNum = df['order_time_of_day'].value_counts()['night']\n",
    "print('Number of users who purchase at night: ', nNum)"
   ]
  },
  {
   "cell_type": "markdown",
   "metadata": {},
   "source": [
    "According to the new metric, the average price value of a sneaker is $ 387.74.\n",
    "\n",
    "Also, users purchased the sneakers the most at night as measured by around 1728 people purchasing from 9 pm to 5 am in the timeframe measured, followed by day, morning, and evening.\n",
    "\n"
   ]
  },
  {
   "cell_type": "code",
   "execution_count": null,
   "metadata": {},
   "outputs": [],
   "source": []
  },
  {
   "cell_type": "code",
   "execution_count": null,
   "metadata": {},
   "outputs": [],
   "source": []
  },
  {
   "cell_type": "code",
   "execution_count": null,
   "metadata": {},
   "outputs": [],
   "source": []
  }
 ],
 "metadata": {
  "kernelspec": {
   "display_name": "Python 3 (ipykernel)",
   "language": "python",
   "name": "python3"
  },
  "language_info": {
   "codemirror_mode": {
    "name": "ipython",
    "version": 3
   },
   "file_extension": ".py",
   "mimetype": "text/x-python",
   "name": "python",
   "nbconvert_exporter": "python",
   "pygments_lexer": "ipython3",
   "version": "3.10.6"
  },
  "vscode": {
   "interpreter": {
    "hash": "6cf8df3ff69f85f626faf55c10df6fe2cb9d1236b4dc73844ee4dc01369c2c99"
   }
  }
 },
 "nbformat": 4,
 "nbformat_minor": 2
}
